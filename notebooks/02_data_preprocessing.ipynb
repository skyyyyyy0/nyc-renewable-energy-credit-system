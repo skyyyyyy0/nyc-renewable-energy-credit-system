{
 "cells": [
  {
   "cell_type": "markdown",
   "id": "8bf1a59d",
   "metadata": {},
   "source": [
    "# Phase 2: Data Preprocessing\n",
    "\n",
    "**Objective**: Clean, transform, and merge collected data for analysis\n",
    "\n",
    "## Tasks:\n",
    "1. Load raw data files\n",
    "2. Handle missing values\n",
    "3. Remove outliers\n",
    "4. Filter date ranges (2021-2023)\n",
    "5. Aggregate to monthly level\n",
    "6. Merge datasets\n",
    "7. Save processed data\n",
    "\n",
    "## Input Files:\n",
    "- `data/raw/nyc_consumption.csv`\n",
    "- `data/raw/eia_generation.csv`\n",
    "- `data/raw/noaa_weather.csv`\n",
    "- `data/raw/census_population.csv`\n",
    "- `data/raw/electricity_rates.csv`\n",
    "\n",
    "## Output Files:\n",
    "- `data/processed/consumption_clean.csv`\n",
    "- `data/processed/generation_clean.csv`\n",
    "- `data/processed/weather_clean.csv`\n",
    "- `data/processed/merged_data.csv`"
   ]
  },
  {
   "cell_type": "code",
   "execution_count": 88,
   "id": "12a0cf1b",
   "metadata": {},
   "outputs": [],
   "source": [
    "import pandas as pd\n",
    "import numpy as np\n",
    "from datetime import datetime \n",
    "import matplotlib.pyplot as plt\n",
    "import seaborn as sns\n",
    "from sklearn.ensemble import IsolationForest\n",
    "from sklearn.preprocessing import StandardScaler\n",
    "from sklearn.impute import KNNImputer\n",
    "import warnings\n",
    "warnings.filterwarnings('ignore')"
   ]
  },
  {
   "cell_type": "code",
   "execution_count": 89,
   "id": "cd898b9a",
   "metadata": {},
   "outputs": [
    {
     "name": "stdout",
     "output_type": "stream",
     "text": [
      "============================================================\n",
      "1. LOADING NYC CONSUMPTION DATA\n",
      "============================================================\n",
      "\n",
      "Original data shape: (521035, 27)\n",
      "Columns: ['Development Name', 'Borough', 'Account Name', 'Location', 'Meter AMR', 'Meter Scope', 'TDS #', 'EDP', 'RC Code', 'Funding Source', 'AMP #', 'Vendor Name', 'UMIS BILL ID', 'Revenue Month', 'Service Start Date', 'Service End Date', '# days', 'Meter Number', 'Estimated', 'Current Charges', 'Rate Class', 'Bill Analyzed', 'Consumption (KWH)', 'KWH Charges', 'Consumption (KW)', 'KW Charges', 'Other charges']\n",
      "  Development Name Borough Account Name Location Meter AMR   Meter Scope  \\\n",
      "0            ADAMS   BRONX        ADAMS   BLD 05      NONE  BLD 01 to 07   \n",
      "1            ADAMS   BRONX        ADAMS   BLD 05      NONE  BLD 01 to 07   \n",
      "2            ADAMS   BRONX        ADAMS   BLD 05      NONE  BLD 01 to 07   \n",
      "3            ADAMS   BRONX        ADAMS   BLD 05      NONE  BLD 01 to 07   \n",
      "4            ADAMS   BRONX        ADAMS   BLD 05      NONE  BLD 01 to 07   \n",
      "\n",
      "   TDS #  EDP  RC Code Funding Source  ... Meter Number Estimated  \\\n",
      "0  118.0  248  B011800        FEDERAL  ...      7223256         N   \n",
      "1  118.0  248  B011800        FEDERAL  ...      7223256         N   \n",
      "2  118.0  248  B011800        FEDERAL  ...      7223256         N   \n",
      "3  118.0  248  B011800        FEDERAL  ...      7223256         N   \n",
      "4  118.0  248  B011800        FEDERAL  ...      7223256         N   \n",
      "\n",
      "   Current Charges   Rate Class Bill Analyzed Consumption (KWH)  KWH Charges  \\\n",
      "0         15396.82  GOV/NYC/068           Yes          128800.0      7387.97   \n",
      "1         14556.34  GOV/NYC/068           Yes          115200.0      6607.87   \n",
      "2         13904.98  GOV/NYC/068           Yes          103200.0      5919.55   \n",
      "3         14764.04  GOV/NYC/068           Yes          105600.0      6057.22   \n",
      "4         13729.54  GOV/NYC/068           Yes           97600.0      5598.34   \n",
      "\n",
      "  Consumption (KW) KW Charges  Other charges  \n",
      "0            216.0     2808.0        5200.85  \n",
      "1            224.0     2912.0        5036.47  \n",
      "2            216.0     2808.0        5177.43  \n",
      "3            208.0     2704.0        6002.82  \n",
      "4            216.0     2808.0        5323.20  \n",
      "\n",
      "[5 rows x 27 columns]\n"
     ]
    }
   ],
   "source": [
    "print(\"=\"*60)\n",
    "print(\"1. LOADING NYC CONSUMPTION DATA\")\n",
    "print(\"=\"*60)\n",
    "\n",
    "# Load data\n",
    "df_consumption = pd.read_csv('../data/raw/nyc_consumption.csv')\n",
    "\n",
    "print(f\"\\nOriginal data shape: {df_consumption.shape}\")\n",
    "print(f\"Columns: {list(df_consumption.columns)}\")\n",
    "print(df_consumption.head())"
   ]
  },
  {
   "cell_type": "code",
   "execution_count": 90,
   "id": "bcf5a4da",
   "metadata": {},
   "outputs": [
    {
     "name": "stdout",
     "output_type": "stream",
     "text": [
      "\n",
      "============================================================\n",
      "CLEANING CONSUMPTION DATA\n",
      "============================================================\n",
      "(252, 3)\n",
      "  Borough       Date  Consumption_KWH\n",
      "0   BRONX 2021-01-01       24747982.0\n",
      "1   BRONX 2021-02-01       21503857.0\n",
      "2   BRONX 2021-03-01       20692175.0\n",
      "3   BRONX 2021-04-01       21424289.0\n",
      "4   BRONX 2021-05-01       20748428.0\n",
      "5   BRONX 2021-06-01       26845332.0\n",
      "6   BRONX 2021-07-01       33006942.0\n",
      "7   BRONX 2021-08-01       36462677.0\n",
      "8   BRONX 2021-09-01       29853273.0\n",
      "9   BRONX 2021-10-01       23251802.0\n"
     ]
    }
   ],
   "source": [
    "print(\"\\n\" + \"=\"*60)\n",
    "print(\"CLEANING CONSUMPTION DATA\")\n",
    "print(\"=\"*60)\n",
    "\n",
    "# 1. Select necessary columns \n",
    "columns_needed = ['Borough','Revenue Month','Consumption (KWH)']\n",
    "\n",
    "# Adjust based on actual column names\n",
    "df_consumption_clean = df_consumption[columns_needed].copy()\n",
    "\n",
    "# 2. Rename columns for simplicity\n",
    "df_consumption_clean.columns = ['Borough','Date','Consumption_KWH']\n",
    "\n",
    "# 3. Convert date format \n",
    "df_consumption_clean['Date'] = pd.to_datetime(\n",
    "    df_consumption_clean['Date'],\n",
    "    format = '%Y-%m', # Adjust if format differs\n",
    "    errors = 'coerce'\n",
    ")\n",
    "    \n",
    "# 4. Filter for 2021 - 2023 only \n",
    "df_consumption_clean = df_consumption_clean[\n",
    "    (df_consumption_clean['Date'] >= '2021-01-01') & \n",
    "    (df_consumption_clean['Date'] <= '2023-12-31')\n",
    "]\n",
    "\n",
    "# 5. Calculate monthly sum by Borough (remove duplicates)\n",
    "df_consumption_clean = df_consumption_clean.groupby(\n",
    "    ['Borough', 'Date']\n",
    ")['Consumption_KWH'].sum().reset_index()\n",
    "\n",
    "\n",
    "print(df_consumption_clean.shape)\n",
    "print(df_consumption_clean.head(10))"
   ]
  },
  {
   "cell_type": "code",
   "execution_count": 91,
   "id": "41c9ab1c",
   "metadata": {},
   "outputs": [
    {
     "name": "stdout",
     "output_type": "stream",
     "text": [
      "\n",
      "============================================================\n",
      "HANDLING MISSING VALUES\n",
      "============================================================\n",
      "Missing value counts:\n",
      "Borough            0\n",
      "Date               0\n",
      "Consumption_KWH    0\n",
      "dtype: int64\n",
      "Cleaning complete:\n",
      "<class 'pandas.core.frame.DataFrame'>\n",
      "RangeIndex: 252 entries, 0 to 251\n",
      "Data columns (total 3 columns):\n",
      " #   Column           Non-Null Count  Dtype         \n",
      "---  ------           --------------  -----         \n",
      " 0   Borough          252 non-null    object        \n",
      " 1   Date             252 non-null    datetime64[ns]\n",
      " 2   Consumption_KWH  252 non-null    float64       \n",
      "dtypes: datetime64[ns](1), float64(1), object(1)\n",
      "memory usage: 6.0+ KB\n",
      "None\n",
      "Saved to: ../data/processed/consumption_clean.csv\n"
     ]
    }
   ],
   "source": [
    "print(\"\\n\" + \"=\"*60)\n",
    "print(\"HANDLING MISSING VALUES\")\n",
    "print(\"=\"*60)\n",
    "\n",
    "# Check missing values\n",
    "missing_count = df_consumption_clean.isnull().sum()\n",
    "print(f\"Missing value counts:\\n{missing_count}\")\n",
    "\n",
    "# Final check\n",
    "print(\"Cleaning complete:\")\n",
    "print(df_consumption_clean.info())\n",
    "\n",
    "# Save cleaned data \n",
    "output_path = '../data/processed/consumption_clean.csv'\n",
    "df_consumption_clean.to_csv(output_path, index=False)\n",
    "print(f\"Saved to: {output_path}\")"
   ]
  },
  {
   "cell_type": "code",
   "execution_count": 62,
   "id": "6c188bf0",
   "metadata": {},
   "outputs": [
    {
     "name": "stdout",
     "output_type": "stream",
     "text": [
      "\n",
      "============================================================\n",
      "2. LOADING EIA GENERATION DATA\n",
      "============================================================\n",
      "\n",
      "Original data shape: (15, 1)\n",
      "\n",
      "Columns: ['Net generation for electric power']\n",
      "\n",
      "First 10 rows:\n",
      "                   Net generation for electric power\n",
      "0  https://www.eia.gov/electricity/data/browser/#...\n",
      "1  Thu Oct 02 2025 13:14:38 GMT-0400 (Eastern Day...\n",
      "2     Source: U.S. Energy Information Administration\n",
      "3  description,\"units\",\"source key\",\"Jan 2021\",\"F...\n",
      "4  Net generation for electric power,\"thousand me...\n",
      "5  United States,,\"ELEC.GEN..M\",,,,,,,,,,,,,,,,,,...\n",
      "6  Middle Atlantic,,\"ELEC.GEN..M\",,,,,,,,,,,,,,,,...\n",
      "7  New York,,\"ELEC.GEN..M\",,,,,,,,,,,,,,,,,,,,,,,...\n",
      "8  New York : all fuels (utility-scale),\"thousand...\n",
      "9  New York : conventional hydroelectric,\"thousan...\n",
      "\n",
      "Column names:\n",
      "['Net generation for electric power']\n"
     ]
    }
   ],
   "source": [
    "print(\"\\n\" + \"=\"*60)\n",
    "print(\"2. LOADING EIA GENERATION DATA\")\n",
    "print(\"=\"*60)\n",
    "\n",
    "# Load data\n",
    "df_generation = pd.read_csv('../data/raw/eia_generation.csv',sep=';')\n",
    "\n",
    "\n",
    "print(f\"\\nOriginal data shape: {df_generation.shape}\")\n",
    "print(f\"\\nColumns: {list(df_generation.columns)}\")\n",
    "print(\"\\nFirst 10 rows:\")\n",
    "print(df_generation.head(10))\n",
    "\n",
    "\n",
    "# Check column names\n",
    "print(\"\\nColumn names:\")\n",
    "print(df_generation.columns.tolist())"
   ]
  },
  {
   "cell_type": "code",
   "execution_count": 23,
   "id": "231030f4",
   "metadata": {},
   "outputs": [
    {
     "name": "stdout",
     "output_type": "stream",
     "text": [
      "\n",
      "============================================================\n",
      "PROCESSING GENERATION DATA\n",
      "============================================================\n",
      "\n",
      "First column values (to find energy source labels):\n",
      "0    https://www.eia.gov/electricity/data/browser/#...\n",
      "1    Thu Oct 02 2025 13:14:38 GMT-0400 (Eastern Day...\n",
      "2       Source: U.S. Energy Information Administration\n",
      "3    description,\"units\",\"source key\",\"Jan 2021\",\"F...\n",
      "4    Net generation for electric power,\"thousand me...\n",
      "5    United States,,\"ELEC.GEN..M\",,,,,,,,,,,,,,,,,,...\n",
      "6    Middle Atlantic,,\"ELEC.GEN..M\",,,,,,,,,,,,,,,,...\n",
      "7    New York,,\"ELEC.GEN..M\",,,,,,,,,,,,,,,,,,,,,,,...\n",
      "8    New York : all fuels (utility-scale),\"thousand...\n",
      "9    New York : conventional hydroelectric,\"thousan...\n",
      "Name: Net generation for electric power, dtype: object\n",
      "First column values\n",
      "0    https://www.eia.gov/electricity/data/browser/#...\n",
      "1    Thu Oct 02 2025 13:14:38 GMT-0400 (Eastern Day...\n",
      "2       Source: U.S. Energy Information Administration\n",
      "3    description,\"units\",\"source key\",\"Jan 2021\",\"F...\n",
      "4    Net generation for electric power,\"thousand me...\n",
      "5    United States,,\"ELEC.GEN..M\",,,,,,,,,,,,,,,,,,...\n",
      "6    Middle Atlantic,,\"ELEC.GEN..M\",,,,,,,,,,,,,,,,...\n",
      "7    New York,,\"ELEC.GEN..M\",,,,,,,,,,,,,,,,,,,,,,,...\n",
      "8    New York : all fuels (utility-scale),\"thousand...\n",
      "9    New York : conventional hydroelectric,\"thousan...\n",
      "Name: Net generation for electric power, dtype: object\n"
     ]
    }
   ],
   "source": [
    "print(\"\\n\" + \"=\"*60)\n",
    "print(\"PROCESSING GENERATION DATA\")\n",
    "print(\"=\"*60)\n",
    "\n",
    "# This is a wide format that needs to be converted to long format\n",
    "# check first few columns to understand structure\n",
    "print(\"\\nFirst column values (to find energy source labels):\")\n",
    "print(df_generation.iloc[:, 0].head(10))\n",
    "\n",
    "# we need to identify:\n",
    "# 1. Row containing energy source names\n",
    "# 2. Date columns \n",
    "\n",
    "# Find the row index that contains resource labels\n",
    "# Usually it's in a column like 'description' or similar\n",
    "print(\"First column values\")\n",
    "print(df_generation.iloc[:,0].head(10))"
   ]
  },
  {
   "cell_type": "code",
   "execution_count": 28,
   "id": "fda47272",
   "metadata": {},
   "outputs": [
    {
     "name": "stdout",
     "output_type": "stream",
     "text": [
      "\n",
      "============================================================\n",
      "2.1 LOADING EIA GENERATION DATA (SKIP HEADER ROWS)\n",
      "============================================================\n",
      "\n",
      "Trying with skiprows=0...\n",
      "Failed: Error tokenizing data. C error: Expected 1 fields in line 5, saw 39\n",
      "\n",
      "\n",
      "Trying with skiprows=1...\n",
      "Failed: Error tokenizing data. C error: Expected 1 fields in line 5, saw 39\n",
      "\n",
      "\n",
      "Trying with skiprows=2...\n",
      "Failed: Error tokenizing data. C error: Expected 1 fields in line 5, saw 39\n",
      "\n",
      "\n",
      "Trying with skiprows=3...\n",
      "Success! Shape: (12, 1)\n",
      "\n",
      "Trying with skiprows=4...\n",
      "Success! Shape: (11, 39)\n",
      "Columns (first 10): ['description', 'units', 'source key', 'Jan 2021', 'Feb 2021', 'Mar 2021', 'Apr 2021', 'May 2021', 'Jun 2021', 'Jul 2021']\n",
      "\n",
      "First 3 rows:\n",
      "                         description                   units   source key  \\\n",
      "0  Net generation for electric power  thousand megawatthours          NaN   \n",
      "1                      United States                     NaN  ELEC.GEN..M   \n",
      "2                    Middle Atlantic                     NaN  ELEC.GEN..M   \n",
      "\n",
      "   Jan 2021  Feb 2021  Mar 2021  Apr 2021  May 2021  Jun 2021  Jul 2021  ...  \\\n",
      "0       NaN       NaN       NaN       NaN       NaN       NaN       NaN  ...   \n",
      "1       NaN       NaN       NaN       NaN       NaN       NaN       NaN  ...   \n",
      "2       NaN       NaN       NaN       NaN       NaN       NaN       NaN  ...   \n",
      "\n",
      "   Mar 2023  Apr 2023  May 2023  Jun 2023  Jul 2023  Aug 2023  Sep 2023  \\\n",
      "0       NaN       NaN       NaN       NaN       NaN       NaN       NaN   \n",
      "1       NaN       NaN       NaN       NaN       NaN       NaN       NaN   \n",
      "2       NaN       NaN       NaN       NaN       NaN       NaN       NaN   \n",
      "\n",
      "   Oct 2023  Nov 2023  Dec 2023  \n",
      "0       NaN       NaN       NaN  \n",
      "1       NaN       NaN       NaN  \n",
      "2       NaN       NaN       NaN  \n",
      "\n",
      "[3 rows x 39 columns]\n",
      "\n",
      "Final loaded shape: (11, 39)\n"
     ]
    }
   ],
   "source": [
    "print(\"\\n\" + \"=\"*60)\n",
    "print(\"2.1 LOADING EIA GENERATION DATA (SKIP HEADER ROWS)\")\n",
    "print(\"=\"*60)\n",
    "\n",
    "# EIA files typically have metadata in first few rows\n",
    "# Try skipping first 4 rows\n",
    "for skip_rows in [0, 1, 2, 3, 4, 5]:\n",
    "    try:\n",
    "        print(f\"\\nTrying with skiprows={skip_rows}...\")\n",
    "        df_generation = pd.read_csv(\n",
    "            '../data/raw/eia_generation.csv',\n",
    "            skiprows=skip_rows\n",
    "        )\n",
    "        print(f\"Success! Shape: {df_generation.shape}\")\n",
    "        \n",
    "        if df_generation.shape[1] > 5:  # If we have multiple columns\n",
    "            print(f\"Columns (first 10): {df_generation.columns[:10].tolist()}\")\n",
    "            print(\"\\nFirst 3 rows:\")\n",
    "            print(df_generation.head(3))\n",
    "            break\n",
    "    except Exception as e:\n",
    "        print(f\"Failed: {str(e)[:100]}\")\n",
    "\n",
    "print(f\"\\nFinal loaded shape: {df_generation.shape}\")"
   ]
  },
  {
   "cell_type": "code",
   "execution_count": 31,
   "id": "879babce",
   "metadata": {},
   "outputs": [
    {
     "name": "stdout",
     "output_type": "stream",
     "text": [
      "\n",
      "============================================================\n",
      "STEP 2.2: EXTRACT NEW YORK ENERGY DATA\n",
      "============================================================\n",
      "Rows containing 'New York':\n",
      "['New York', 'New York : all fuels (utility-scale)', 'New York : conventional hydroelectric', 'New York : other renewables', 'New York : wind', 'New York : all utility-scale solar', 'New York : all solar', 'New York : all utility-scale solar']\n"
     ]
    }
   ],
   "source": [
    "print(\"\\n\" + \"=\"*60)\n",
    "print(\"STEP 2.2: EXTRACT NEW YORK ENERGY DATA\")\n",
    "print(\"=\"*60)\n",
    "\n",
    "# We need to find rows containing New York data for:\n",
    "# - All fuels (total generation)\n",
    "# - Wind\n",
    "# - Solar  \n",
    "# - Conventional Hydroelectric\n",
    "\n",
    "# Check which rows contain \"New York\"\n",
    "print(\"Rows containing 'New York':\")\n",
    "ny_mask = df_generation['description'].str.contains('New York', case=False, na=False)\n",
    "print(df_generation[ny_mask]['description'].tolist())"
   ]
  },
  {
   "cell_type": "code",
   "execution_count": 34,
   "id": "f91ed5fa",
   "metadata": {},
   "outputs": [
    {
     "name": "stdout",
     "output_type": "stream",
     "text": [
      "\n",
      "Found row indices:\n",
      "All fuels: 4\n",
      "Wind: 7\n",
      "Solar: 8\n",
      "Hydroelectric: 5\n"
     ]
    }
   ],
   "source": [
    "# Find specific energy sources for New York \n",
    "def find_ny_energy_row(df, energy_type):\n",
    "    for idx, row in df.iterrows():\n",
    "        desc = str(row['description']).lower()\n",
    "        if 'new york' in desc and energy_type.lower() in desc:\n",
    "            return idx\n",
    "    return None\n",
    "\n",
    "# Find row indices \n",
    "all_fuels_idx = find_ny_energy_row(df_generation, 'all fuels')\n",
    "wind_idx = find_ny_energy_row(df_generation, 'wind')\n",
    "solar_fuels_idx = find_ny_energy_row(df_generation, 'solar')\n",
    "hydro_idx = find_ny_energy_row(df_generation, 'conventional hydroelectric')\n",
    "\n",
    "print(f\"\\nFound row indices:\")\n",
    "print(f\"All fuels: {all_fuels_idx}\")\n",
    "print(f\"Wind: {wind_idx}\")\n",
    "print(f\"Solar: {solar_idx}\")\n",
    "print(f\"Hydroelectric: {hydro_idx}\")"
   ]
  },
  {
   "cell_type": "code",
   "execution_count": 37,
   "id": "a874d055",
   "metadata": {},
   "outputs": [
    {
     "name": "stdout",
     "output_type": "stream",
     "text": [
      "\n",
      "============================================================\n",
      "STEP 2.2: RESHAPE DATA (WIDE TO LONG)\n",
      "============================================================\n",
      "Found 3 date columns\n",
      "First 5: ['description', 'units', 'source key']\n",
      "Last 5: ['description', 'units', 'source key']\n"
     ]
    }
   ],
   "source": [
    "print(\"\\n\" + \"=\"*60)\n",
    "print(\"STEP 2.2: RESHAPE DATA (WIDE TO LONG)\")\n",
    "print(\"=\"*60)\n",
    "\n",
    "# Identify date columns (skip first 3: description, units, source key)\n",
    "date_columns = df_generation.columns[:3].tolist()\n",
    "\n",
    "print(f\"Found {len(date_columns)} date columns\")\n",
    "print(f\"First 5: {date_columns[:5]}\")\n",
    "print(f\"Last 5: {date_columns[-5:]}\")"
   ]
  },
  {
   "cell_type": "code",
   "execution_count": 43,
   "id": "5a97ecb9",
   "metadata": {},
   "outputs": [
    {
     "name": "stdout",
     "output_type": "stream",
     "text": [
      "Total_Generation: 36 months extracted\n",
      "Hydroelectric: 36 months extracted\n",
      "Wind: 36 months extracted\n",
      "Solar: 36 months extracted\n"
     ]
    }
   ],
   "source": [
    "# Extract data for each energy source\n",
    "energy_data = []\n",
    "\n",
    "for name, idx in [('Total_Generation', all_fuels_idx), \n",
    "                   ('Hydroelectric', hydro_idx),\n",
    "                   ('Wind', wind_idx), \n",
    "                   ('Solar', solar_idx)]:\n",
    "    \n",
    "    # Get the row\n",
    "    row = df_generation.iloc[idx]\n",
    "    \n",
    "    # Extract values for date columns only\n",
    "    values = row[date_columns].values\n",
    "    \n",
    "    # Create temporary dataframe\n",
    "    temp_df = pd.DataFrame({\n",
    "        'Date': date_columns,\n",
    "        name: values\n",
    "    })\n",
    "    \n",
    "    energy_data.append(temp_df)\n",
    "    print(f\"{name}: {len(values)} months extracted\")"
   ]
  },
  {
   "cell_type": "code",
   "execution_count": 44,
   "id": "364a45dd",
   "metadata": {},
   "outputs": [
    {
     "name": "stdout",
     "output_type": "stream",
     "text": [
      "\n",
      "Merged data shape: (36, 5)\n",
      "\n",
      "First 10 rows:\n",
      "       Date Total_Generation Hydroelectric   Wind  Solar\n",
      "0  Apr 2021           8733.0        2304.0  328.0  113.0\n",
      "1  Apr 2022           9246.0        2182.0  443.0  166.0\n",
      "2  Apr 2023           8293.0        2360.0  464.0  227.0\n",
      "3  Aug 2021          12373.0        2439.0  212.0  109.0\n",
      "4  Aug 2022          12326.0        2293.0  218.0  195.0\n",
      "5  Aug 2023          11397.0        2460.0  302.0  243.0\n",
      "6  Dec 2021          10293.0        2639.0  514.0   57.0\n",
      "7  Dec 2022          10405.0        2328.0  520.0   97.0\n",
      "8  Dec 2023          10415.0        2586.0  547.0   74.0\n",
      "9  Feb 2021           9375.0        2074.0  318.0   46.0\n",
      "\n",
      "Data types:\n",
      "Date                object\n",
      "Total_Generation    object\n",
      "Hydroelectric       object\n",
      "Wind                object\n",
      "Solar               object\n",
      "dtype: object\n"
     ]
    }
   ],
   "source": [
    "# Merge all energy sources on Date\n",
    "df_generation_clean = energy_data[0]\n",
    "for df in energy_data[1:]:\n",
    "    df_generation_clean = df_generation_clean.merge(df, on='Date', how='outer')\n",
    "\n",
    "print(f\"\\nMerged data shape: {df_generation_clean.shape}\")\n",
    "print(\"\\nFirst 10 rows:\")\n",
    "print(df_generation_clean.head(10))\n",
    "print(\"\\nData types:\")\n",
    "print(df_generation_clean.dtypes)"
   ]
  },
  {
   "cell_type": "code",
   "execution_count": 46,
   "id": "2fbdb044",
   "metadata": {},
   "outputs": [
    {
     "name": "stdout",
     "output_type": "stream",
     "text": [
      "\n",
      "============================================================\n",
      "STEP 2.4: CLEAN DATE FORMAT & FILTER 2021-2023\n",
      "============================================================\n",
      "Date conversion:\n",
      "Valid dates: 36\n",
      "Invalid dates: 0\n",
      "\n",
      "Date range: 2021-01-01 00:00:00 to 2023-12-01 00:00:00\n"
     ]
    }
   ],
   "source": [
    "print(\"\\n\" + \"=\"*60)\n",
    "print(\"STEP 2.4: CLEAN DATE FORMAT & FILTER 2021-2023\")\n",
    "print(\"=\"*60)\n",
    "\n",
    "# Convert Date column from \"Jan 2021\" format to datetime\n",
    "df_generation_clean['Date'] = pd.to_datetime(\n",
    "    df_generation_clean['Date'], \n",
    "    format='%b %Y',  # %b = abbreviated month name (Jan, Feb, etc.)\n",
    "    errors='coerce'\n",
    ")\n",
    "\n",
    "print(\"Date conversion:\")\n",
    "print(f\"Valid dates: {df_generation_clean['Date'].notna().sum()}\")\n",
    "print(f\"Invalid dates: {df_generation_clean['Date'].isna().sum()}\")\n",
    "print(f\"\\nDate range: {df_generation_clean['Date'].min()} to {df_generation_clean['Date'].max()}\")"
   ]
  },
  {
   "cell_type": "code",
   "execution_count": 47,
   "id": "7ca75e60",
   "metadata": {},
   "outputs": [
    {
     "name": "stdout",
     "output_type": "stream",
     "text": [
      "\n",
      "After filtering - Shape: (36, 5)\n",
      "\n",
      "First 5 rows (chronological):\n",
      "        Date Total_Generation Hydroelectric   Wind  Solar\n",
      "0 2021-01-01          10773.0        2571.0  262.0   62.0\n",
      "1 2021-02-01           9375.0        2074.0  318.0   46.0\n",
      "2 2021-03-01           9909.0        2422.0  574.0  109.0\n",
      "3 2021-04-01           8733.0        2304.0  328.0  113.0\n",
      "4 2021-05-01           9333.0        2363.0  277.0  126.0\n",
      "\n",
      "Last 5 rows:\n",
      "         Date Total_Generation Hydroelectric   Wind  Solar\n",
      "31 2023-08-01          11397.0        2460.0  302.0  243.0\n",
      "32 2023-09-01          10113.0        2164.0  212.0  223.0\n",
      "33 2023-10-01           9488.0        2240.0  466.0  160.0\n",
      "34 2023-11-01          10412.0        2313.0  626.0  125.0\n",
      "35 2023-12-01          10415.0        2586.0  547.0   74.0\n"
     ]
    }
   ],
   "source": [
    "# Filter for 2021-2023\n",
    "df_generation_clean = df_generation_clean[\n",
    "    (df_generation_clean['Date'] >= '2021-01-01') & \n",
    "    (df_generation_clean['Date'] <= '2023-12-31')\n",
    "].copy()\n",
    "\n",
    "# Sort by date\n",
    "df_generation_clean = df_generation_clean.sort_values('Date').reset_index(drop=True)\n",
    "\n",
    "print(f\"\\nAfter filtering - Shape: {df_generation_clean.shape}\")\n",
    "print(\"\\nFirst 5 rows (chronological):\")\n",
    "print(df_generation_clean.head())\n",
    "print(\"\\nLast 5 rows:\")\n",
    "print(df_generation_clean.tail())"
   ]
  },
  {
   "cell_type": "code",
   "execution_count": 49,
   "id": "01bdeff4",
   "metadata": {},
   "outputs": [
    {
     "name": "stdout",
     "output_type": "stream",
     "text": [
      "\n",
      "============================================================\n",
      "STEP 2.5: UNIT CONVERSION (Thousand MWh → KWh)\n",
      "============================================================\n",
      "Before conversion (first 5 rows):\n",
      "        Date Total_Generation Hydroelectric   Wind  Solar\n",
      "0 2021-01-01          10773.0        2571.0  262.0   62.0\n",
      "1 2021-02-01           9375.0        2074.0  318.0   46.0\n",
      "2 2021-03-01           9909.0        2422.0  574.0  109.0\n",
      "3 2021-04-01           8733.0        2304.0  328.0  113.0\n",
      "4 2021-05-01           9333.0        2363.0  277.0  126.0\n"
     ]
    }
   ],
   "source": [
    "print(\"\\n\" + \"=\"*60)\n",
    "print(\"STEP 2.5: UNIT CONVERSION (Thousand MWh → KWh)\")\n",
    "print(\"=\"*60)\n",
    "\n",
    "# Current units: thousand megawatthours (1,000 MWh)\n",
    "# Target units: kilowatthours (KWh)\n",
    "# Conversion: 1,000 MWh = 1,000,000 KWh\n",
    "# So: thousand MWh × 1,000,000 = KWh\n",
    "\n",
    "print(\"Before conversion (first 5 rows):\")\n",
    "print(df_generation_clean.head())"
   ]
  },
  {
   "cell_type": "code",
   "execution_count": 50,
   "id": "1283f114",
   "metadata": {},
   "outputs": [
    {
     "name": "stdout",
     "output_type": "stream",
     "text": [
      "\n",
      "After conversion to KWh (first 5 rows):\n",
      "        Date Total_Generation Hydroelectric         Wind        Solar\n",
      "0 2021-01-01    10773000000.0  2571000000.0  262000000.0   62000000.0\n",
      "1 2021-02-01     9375000000.0  2074000000.0  318000000.0   46000000.0\n",
      "2 2021-03-01     9909000000.0  2422000000.0  574000000.0  109000000.0\n",
      "3 2021-04-01     8733000000.0  2304000000.0  328000000.0  113000000.0\n",
      "4 2021-05-01     9333000000.0  2363000000.0  277000000.0  126000000.0\n",
      "\n",
      "Sample values comparison:\n",
      "Jan 2021 Total Generation: 10,773,000,000 KWh\n",
      "Jan 2021 Wind: 262,000,000 KWh\n"
     ]
    }
   ],
   "source": [
    "# Convert all generation columns\n",
    "for col in ['Total_Generation', 'Hydroelectric', 'Wind', 'Solar']:\n",
    "    df_generation_clean[col] = df_generation_clean[col] * 1_000_000\n",
    "\n",
    "print(\"\\nAfter conversion to KWh (first 5 rows):\")\n",
    "print(df_generation_clean.head())\n",
    "\n",
    "print(\"\\nSample values comparison:\")\n",
    "print(\"Jan 2021 Total Generation: {:,.0f} KWh\".format(df_generation_clean.iloc[0]['Total_Generation']))\n",
    "print(\"Jan 2021 Wind: {:,.0f} KWh\".format(df_generation_clean.iloc[0]['Wind']))"
   ]
  },
  {
   "cell_type": "code",
   "execution_count": 52,
   "id": "022263ea",
   "metadata": {},
   "outputs": [
    {
     "name": "stdout",
     "output_type": "stream",
     "text": [
      "\n",
      "============================================================\n",
      "STEP 2.6: CHECK MISSING VALUES & SAVE\n",
      "============================================================\n",
      "Missing values by column:\n",
      "Date                0\n",
      "Total_Generation    0\n",
      "Hydroelectric       0\n",
      "Wind                0\n",
      "Solar               0\n",
      "dtype: int64\n"
     ]
    }
   ],
   "source": [
    "print(\"\\n\" + \"=\"*60)\n",
    "print(\"STEP 2.6: CHECK MISSING VALUES & SAVE\")\n",
    "print(\"=\"*60)\n",
    "\n",
    "# Check for missing values\n",
    "print(\"Missing values by column:\")\n",
    "print(df_generation_clean.isnull().sum())"
   ]
  },
  {
   "cell_type": "code",
   "execution_count": 56,
   "id": "088df52d",
   "metadata": {},
   "outputs": [
    {
     "name": "stdout",
     "output_type": "stream",
     "text": [
      "\n",
      "Checking for zero or negative values:\n",
      "Total_Generation: OK\n",
      "Hydroelectric: OK\n",
      "Wind: OK\n",
      "Solar: OK\n",
      "\n",
      "Summary statistics:\n",
      "                      Date\n",
      "count                   36\n",
      "mean   2022-06-16 12:00:00\n",
      "min    2021-01-01 00:00:00\n",
      "25%    2021-09-23 12:00:00\n",
      "50%    2022-06-16 00:00:00\n",
      "75%    2023-03-08 18:00:00\n",
      "max    2023-12-01 00:00:00\n",
      "Saved to: ../data/processed/generation_clean.csv\n"
     ]
    }
   ],
   "source": [
    "# Check for any zero or negative values (shouldn't exist in generation data)\n",
    "print(\"\\nChecking for zero or negative values:\")\n",
    "for col in ['Total_Generation', 'Hydroelectric', 'Wind', 'Solar']:\n",
    "    zero_count = (df_generation_clean[col] == 0).sum()\n",
    "    neg_count = (df_generation_clean[col] < 0).sum()\n",
    "    if zero_count > 0 or neg_count > 0:\n",
    "        print(f\"{col}: {zero_count} zeros, {neg_count} negatives\")\n",
    "    else:\n",
    "        print(f\"{col}: OK\")\n",
    "\n",
    "# Summary statistics\n",
    "print(\"\\nSummary statistics:\")\n",
    "print(df_generation_clean.describe())\n",
    "\n",
    "# Save cleaned data\n",
    "output_path = '../data/processed/generation_clean.csv'\n",
    "df_generation_clean.to_csv(output_path, index=False)\n",
    "print(f\"Saved to: {output_path}\")"
   ]
  },
  {
   "cell_type": "code",
   "execution_count": 63,
   "id": "0c0d3c95",
   "metadata": {},
   "outputs": [
    {
     "name": "stdout",
     "output_type": "stream",
     "text": [
      "\n",
      "============================================================\n",
      "3. LOADING NOAA WEATHER DATA\n",
      "============================================================\n",
      "\n",
      "Original data shape: (1095, 15)\n",
      "\n",
      "Columns: ['STATION', 'NAME', 'DATE', 'AWND', 'PGTM', 'PRCP', 'SNOW', 'SNWD', 'TAVG', 'TMAX', 'TMIN', 'WDF2', 'WDF5', 'WSF2', 'WSF5']\n",
      "\n",
      "First 10 rows:\n",
      "       STATION                         NAME        DATE  AWND  PGTM  PRCP  \\\n",
      "0  USW00094728  NY CITY CENTRAL PARK, NY US  2021-01-01  5.59   NaN  0.62   \n",
      "1  USW00094728  NY CITY CENTRAL PARK, NY US  2021-01-02  6.71   NaN  0.05   \n",
      "2  USW00094728  NY CITY CENTRAL PARK, NY US  2021-01-03  9.17   NaN  0.22   \n",
      "3  USW00094728  NY CITY CENTRAL PARK, NY US  2021-01-04  4.47   NaN  0.02   \n",
      "4  USW00094728  NY CITY CENTRAL PARK, NY US  2021-01-05  4.92   NaN  0.00   \n",
      "5  USW00094728  NY CITY CENTRAL PARK, NY US  2021-01-06  8.28   NaN  0.00   \n",
      "6  USW00094728  NY CITY CENTRAL PARK, NY US  2021-01-07  6.93   NaN  0.00   \n",
      "7  USW00094728  NY CITY CENTRAL PARK, NY US  2021-01-08  6.04   NaN  0.00   \n",
      "8  USW00094728  NY CITY CENTRAL PARK, NY US  2021-01-09  6.93   NaN  0.00   \n",
      "9  USW00094728  NY CITY CENTRAL PARK, NY US  2021-01-10  4.25   NaN  0.00   \n",
      "\n",
      "   SNOW  SNWD  TAVG  TMAX  TMIN   WDF2   WDF5  WSF2  WSF5  \n",
      "0   0.0   0.0   NaN    40    33  100.0  120.0  12.1  17.0  \n",
      "1   0.0   0.0   NaN    51    36  300.0  320.0  21.9  33.1  \n",
      "2   0.0   0.0   NaN    38    34   50.0   50.0  18.1  27.1  \n",
      "3   0.0   0.0   NaN    43    35   30.0   40.0  12.1  18.1  \n",
      "4   0.0   0.0   NaN    42    36  350.0  360.0  12.1  17.0  \n",
      "5   0.0   0.0   NaN    41    34  300.0  300.0  21.0  31.1  \n",
      "6   0.0   0.0   NaN    41    30  300.0  310.0  15.0  21.9  \n",
      "7   0.0   0.0   NaN    37    27   10.0   20.0  13.0  19.0  \n",
      "8   0.0   0.0   NaN    37    24  360.0   30.0  17.0  28.0  \n",
      "9   0.0   0.0   NaN    41    29  360.0   10.0  13.0  17.0  \n",
      "\n",
      "Data types:\n",
      "STATION     object\n",
      "NAME        object\n",
      "DATE        object\n",
      "AWND       float64\n",
      "PGTM       float64\n",
      "PRCP       float64\n",
      "SNOW       float64\n",
      "SNWD       float64\n",
      "TAVG       float64\n",
      "TMAX         int64\n",
      "TMIN         int64\n",
      "WDF2       float64\n",
      "WDF5       float64\n",
      "WSF2       float64\n",
      "WSF5       float64\n",
      "dtype: object\n"
     ]
    }
   ],
   "source": [
    "print(\"\\n\" + \"=\"*60)\n",
    "print(\"3. LOADING NOAA WEATHER DATA\")\n",
    "print(\"=\"*60)\n",
    "\n",
    "df_weather = pd.read_csv('../data/raw/noaa_weather.csv')\n",
    "\n",
    "print(f\"\\nOriginal data shape: {df_weather.shape}\")\n",
    "print(f\"\\nColumns: {list(df_weather.columns)}\")\n",
    "print(\"\\nFirst 10 rows:\")\n",
    "print(df_weather.head(10))\n",
    "\n",
    "# Check data types\n",
    "print(\"\\nData types:\")\n",
    "print(df_weather.dtypes)"
   ]
  },
  {
   "cell_type": "code",
   "execution_count": 65,
   "id": "e7a487d8",
   "metadata": {},
   "outputs": [
    {
     "name": "stdout",
     "output_type": "stream",
     "text": [
      "\n",
      "All required columns present\n"
     ]
    }
   ],
   "source": [
    "# Check for key columns\n",
    "required_cols = ['DATE', 'TMAX', 'TMIN', 'PRCP', 'AWND']\n",
    "missing_cols = [col for col in required_cols if col not in df_weather.columns]\n",
    "if missing_cols:\n",
    "    print(f\"\\nWARNING: Missing columns: {missing_cols}\")\n",
    "else:\n",
    "    print(\"\\nAll required columns present\")"
   ]
  },
  {
   "cell_type": "code",
   "execution_count": 68,
   "id": "a6f92663",
   "metadata": {},
   "outputs": [
    {
     "name": "stdout",
     "output_type": "stream",
     "text": [
      "\n",
      "============================================================\n",
      "STEP 3.1: CALCULATE TAVG & CLEAN DATA\n",
      "============================================================\n",
      "Date range: 2021-01-01 00:00:00 to 2023-12-31 00:00:00\n"
     ]
    }
   ],
   "source": [
    "print(\"\\n\" + \"=\"*60)\n",
    "print(\"STEP 3.1: CALCULATE TAVG & CLEAN DATA\")\n",
    "print(\"=\"*60)\n",
    "\n",
    "# Convert DATE to datetime\n",
    "df_weather['DATE'] = pd.to_datetime(df_weather['DATE'], errors='coerce')\n",
    "\n",
    "print(f\"Date range: {df_weather['DATE'].min()} to {df_weather['DATE'].max()}\")"
   ]
  },
  {
   "cell_type": "code",
   "execution_count": 69,
   "id": "3d2ff4d6",
   "metadata": {},
   "outputs": [
    {
     "name": "stdout",
     "output_type": "stream",
     "text": [
      "\n",
      "TAVG calculation:\n",
      "TMAX available: 1095 days\n",
      "TMIN available: 1095 days\n",
      "TAVG calculated: 1095 days\n"
     ]
    }
   ],
   "source": [
    "# Calculate TAVG from TMAX and TMIN (TAVG column is empty)\n",
    "df_weather['TAVG'] = (df_weather['TMAX'] + df_weather['TMIN']) / 2\n",
    "\n",
    "print(\"\\nTAVG calculation:\")\n",
    "print(f\"TMAX available: {df_weather['TMAX'].notna().sum()} days\")\n",
    "print(f\"TMIN available: {df_weather['TMIN'].notna().sum()} days\")\n",
    "print(f\"TAVG calculated: {df_weather['TAVG'].notna().sum()} days\")"
   ]
  },
  {
   "cell_type": "code",
   "execution_count": 71,
   "id": "bdd8be4e",
   "metadata": {},
   "outputs": [
    {
     "name": "stdout",
     "output_type": "stream",
     "text": [
      "\n",
      "After filtering 2021-2023 - Shape: (1095, 4)\n",
      "\n",
      "First 10 rows:\n",
      "        DATE  TAVG  PRCP  AWND\n",
      "0 2021-01-01  36.5  0.62  5.59\n",
      "1 2021-01-02  43.5  0.05  6.71\n",
      "2 2021-01-03  36.0  0.22  9.17\n",
      "3 2021-01-04  39.0  0.02  4.47\n",
      "4 2021-01-05  39.0  0.00  4.92\n",
      "5 2021-01-06  37.5  0.00  8.28\n",
      "6 2021-01-07  35.5  0.00  6.93\n",
      "7 2021-01-08  32.0  0.00  6.04\n",
      "8 2021-01-09  30.5  0.00  6.93\n",
      "9 2021-01-10  35.0  0.00  4.25\n",
      "\n",
      "Missing values:\n",
      "DATE     0\n",
      "TAVG     0\n",
      "PRCP     0\n",
      "AWND    18\n",
      "dtype: int64\n"
     ]
    }
   ],
   "source": [
    "# Select only needed columns\n",
    "weather_cols = ['DATE', 'TAVG', 'PRCP', 'AWND']\n",
    "df_weather_clean = df_weather[weather_cols].copy()\n",
    "\n",
    "# Filter for 2021-2023\n",
    "df_weather_clean = df_weather_clean[\n",
    "    (df_weather_clean['DATE'] >= '2021-01-01') &\n",
    "    (df_weather_clean['DATE'] <= '2023-12-31')\n",
    "].copy()\n",
    "\n",
    "print(f\"\\nAfter filtering 2021-2023 - Shape: {df_weather_clean.shape}\")\n",
    "print(\"\\nFirst 10 rows:\")\n",
    "print(df_weather_clean.head(10))\n",
    "print(\"\\nMissing values:\")\n",
    "print(df_weather_clean.isnull().sum())"
   ]
  },
  {
   "cell_type": "code",
   "execution_count": 75,
   "id": "883a6dd4",
   "metadata": {},
   "outputs": [
    {
     "name": "stdout",
     "output_type": "stream",
     "text": [
      "\n",
      "============================================================\n",
      "STEP 3.2: AGGREGATE TO MONTHLY AVERAGES\n",
      "============================================================\n",
      "\n",
      "Monthly aggregated shape: (36, 4)\n",
      "\n",
      "First 10 months:\n",
      "        Date   Avg_Temp  Total_Precip  Avg_Wind\n",
      "0 2021-01-01  34.758065          2.31  6.797419\n",
      "1 2021-02-01  34.160714          5.13  6.487143\n",
      "2 2021-03-01  45.822581          3.41  6.710323\n",
      "3 2021-04-01  54.583333          2.69  5.741667\n",
      "4 2021-05-01  62.887097          4.36  5.174194\n",
      "5 2021-06-01  74.250000          2.62  3.682667\n",
      "6 2021-07-01  76.032258         11.09  3.485484\n",
      "7 2021-08-01  77.548387         10.32  3.441613\n",
      "8 2021-09-01  70.300000         10.03  3.974118\n",
      "9 2021-10-01  62.000000          5.26  4.621481\n",
      "\n",
      "Last 5 months:\n",
      "         Date   Avg_Temp  Total_Precip  Avg_Wind\n",
      "31 2023-08-01  75.000000          6.56  3.722903\n",
      "32 2023-09-01  69.400000         14.25  4.637333\n",
      "33 2023-10-01  60.500000          3.90  3.824194\n",
      "34 2023-11-01  46.666667          2.95  4.868667\n",
      "35 2023-12-01  44.612903          6.71  5.109677\n",
      "\n",
      "Missing values:\n",
      "Date            0\n",
      "Avg_Temp        0\n",
      "Total_Precip    0\n",
      "Avg_Wind        0\n",
      "dtype: int64\n"
     ]
    }
   ],
   "source": [
    "print(\"\\n\" + \"=\"*60)\n",
    "print(\"STEP 3.2: AGGREGATE TO MONTHLY AVERAGES\")\n",
    "print(\"=\"*60)\n",
    "\n",
    "# Extract year-month for grouping\n",
    "df_weather_clean['Year'] = df_weather_clean['DATE'].dt.year\n",
    "df_weather_clean['Month'] = df_weather_clean['DATE'].dt.month\n",
    "\n",
    "# Create date column (first day of each month)\n",
    "df_weather_clean['Date'] = pd.to_datetime(\n",
    "    df_weather_clean['Year'].astype(str) + '-' + \n",
    "    df_weather_clean['Month'].astype(str) + '-01'\n",
    ")\n",
    "\n",
    "# Group by month and calculate averages\n",
    "df_weather_monthly = df_weather_clean.groupby('Date').agg({\n",
    "    'TAVG': 'mean',\n",
    "    'PRCP': 'sum',    # Total precipitation per month\n",
    "    'AWND': 'mean'\n",
    "}).reset_index()\n",
    "\n",
    "# Rename columns\n",
    "df_weather_monthly.columns = ['Date', 'Avg_Temp', 'Total_Precip', 'Avg_Wind']\n",
    "\n",
    "print(f\"\\nMonthly aggregated shape: {df_weather_monthly.shape}\")\n",
    "print(\"\\nFirst 10 months:\")\n",
    "print(df_weather_monthly.head(10))\n",
    "print(\"\\nLast 5 months:\")\n",
    "print(df_weather_monthly.tail())\n",
    "print(\"\\nMissing values:\")\n",
    "print(df_weather_monthly.isnull().sum())"
   ]
  },
  {
   "cell_type": "code",
   "execution_count": 77,
   "id": "84c33318",
   "metadata": {},
   "outputs": [
    {
     "name": "stdout",
     "output_type": "stream",
     "text": [
      "\n",
      "============================================================\n",
      "STEP 3.3: SAVE WEATHER DATA\n",
      "============================================================\n",
      "Saved to: ../data/processed/weather_clean.csv\n",
      "                      Date   Avg_Temp  Total_Precip   Avg_Wind\n",
      "count                   36  36.000000     36.000000  36.000000\n",
      "mean   2022-06-16 12:00:00  57.022746      4.592222   4.977272\n",
      "min    2021-01-01 00:00:00  30.322581      1.120000   2.597097\n",
      "25%    2021-09-23 12:00:00  44.625000      2.672500   3.854167\n",
      "50%    2022-06-16 00:00:00  57.243548      4.195000   4.866108\n",
      "75%    2023-03-08 18:00:00  70.075000      5.280000   6.011630\n",
      "max    2023-12-01 00:00:00  79.548387     14.250000   6.797419\n",
      "std                    NaN  14.965058      2.982224   1.181608\n"
     ]
    }
   ],
   "source": [
    "print(\"\\n\" + \"=\"*60)\n",
    "print(\"STEP 3.3: SAVE WEATHER DATA\")\n",
    "print(\"=\"*60)\n",
    "\n",
    "# Save to processed folder\n",
    "output_path = '../data/processed/weather_clean.csv'\n",
    "df_weather_monthly.to_csv(output_path, index=False)\n",
    "\n",
    "print(f\"Saved to: {output_path}\")\n",
    "print(df_weather_monthly.describe())"
   ]
  },
  {
   "cell_type": "code",
   "execution_count": 78,
   "id": "e271b7ea",
   "metadata": {},
   "outputs": [
    {
     "name": "stdout",
     "output_type": "stream",
     "text": [
      "\n",
      "============================================================\n",
      "4. MERGING ALL DATASETS\n",
      "============================================================\n",
      "Dataset shapes:\n",
      "Consumption: (36, 5)\n",
      "Generation: (36, 5)\n",
      "Weather: (36, 4)\n",
      "\n",
      "Date ranges:\n",
      "Consumption: 2021-01-01 00:00:00 to 2023-12-01 00:00:00\n",
      "Generation: 2021-01-01 00:00:00 to 2023-12-01 00:00:00\n",
      "Weather: 2021-01-01 00:00:00 to 2023-12-01 00:00:00\n"
     ]
    }
   ],
   "source": [
    "print(\"\\n\" + \"=\"*60)\n",
    "print(\"4. MERGING ALL DATASETS\")\n",
    "print(\"=\"*60)\n",
    "\n",
    "# Load all cleaned datasets\n",
    "df_consumption_clean = pd.read_csv('../data/processed/consumption_clean.csv')\n",
    "df_generation_clean = pd.read_csv('../data/processed/generation_clean.csv')\n",
    "df_weather_monthly = pd.read_csv('../data/processed/weather_clean.csv')\n",
    "\n",
    "# Convert Date columns to datetime\n",
    "df_consumption_clean['Date'] = pd.to_datetime(df_consumption_clean['Date'])\n",
    "df_generation_clean['Date'] = pd.to_datetime(df_generation_clean['Date'])\n",
    "df_weather_monthly['Date'] = pd.to_datetime(df_weather_monthly['Date'])\n",
    "\n",
    "print(\"Dataset shapes:\")\n",
    "print(f\"Consumption: {df_consumption_clean.shape}\")\n",
    "print(f\"Generation: {df_generation_clean.shape}\")\n",
    "print(f\"Weather: {df_weather_monthly.shape}\")\n",
    "\n",
    "# Check date ranges\n",
    "print(\"\\nDate ranges:\")\n",
    "print(f\"Consumption: {df_consumption_clean['Date'].min()} to {df_consumption_clean['Date'].max()}\")\n",
    "print(f\"Generation: {df_generation_clean['Date'].min()} to {df_generation_clean['Date'].max()}\")\n",
    "print(f\"Weather: {df_weather_monthly['Date'].min()} to {df_weather_monthly['Date'].max()}\")"
   ]
  },
  {
   "cell_type": "code",
   "execution_count": 95,
   "id": "7ae21970",
   "metadata": {},
   "outputs": [
    {
     "name": "stdout",
     "output_type": "stream",
     "text": [
      "\n",
      "============================================================\n",
      "STEP 4.1: MERGE ALL DATASETS\n",
      "============================================================\n",
      "Before merge:\n",
      "Consumption: (252, 3)\n",
      "Generation: (36, 5)\n",
      "Weather: (36, 4)\n"
     ]
    }
   ],
   "source": [
    "print(\"\\n\" + \"=\"*60)\n",
    "print(\"STEP 4.1: MERGE ALL DATASETS\")\n",
    "print(\"=\"*60)\n",
    "\n",
    "# Reload all cleaned datasets\n",
    "df_consumption_clean = pd.read_csv('../data/processed/consumption_clean.csv')\n",
    "df_generation_clean = pd.read_csv('../data/processed/generation_clean.csv')\n",
    "df_weather_monthly = pd.read_csv('../data/processed/weather_clean.csv')\n",
    "\n",
    "# Convert dates\n",
    "df_consumption_clean['Date'] = pd.to_datetime(df_consumption_clean['Date'])\n",
    "df_generation_clean['Date'] = pd.to_datetime(df_generation_clean['Date'])\n",
    "df_weather_monthly['Date'] = pd.to_datetime(df_weather_monthly['Date'])\n",
    "\n",
    "print(\"Before merge:\")\n",
    "print(f\"Consumption: {df_consumption_clean.shape}\")\n",
    "print(f\"Generation: {df_generation_clean.shape}\")\n",
    "print(f\"Weather: {df_weather_monthly.shape}\")"
   ]
  },
  {
   "cell_type": "code",
   "execution_count": 96,
   "id": "6a761e52",
   "metadata": {},
   "outputs": [
    {
     "name": "stdout",
     "output_type": "stream",
     "text": [
      "\n",
      "Gen+Weather: (36, 8)\n",
      "\n",
      "Final merged: (252, 10)\n",
      "\n",
      "Columns:\n",
      "['Borough', 'Date', 'Consumption_KWH', 'Total_Generation', 'Hydroelectric', 'Wind', 'Solar', 'Avg_Temp', 'Total_Precip', 'Avg_Wind']\n",
      "\n",
      "First 10 rows:\n",
      "  Borough       Date  Consumption_KWH  Total_Generation  Hydroelectric  \\\n",
      "0   BRONX 2021-01-01       24747982.0      1.077300e+10   2.571000e+09   \n",
      "1   BRONX 2021-02-01       21503857.0      9.375000e+09   2.074000e+09   \n",
      "2   BRONX 2021-03-01       20692175.0      9.909000e+09   2.422000e+09   \n",
      "3   BRONX 2021-04-01       21424289.0      8.733000e+09   2.304000e+09   \n",
      "4   BRONX 2021-05-01       20748428.0      9.333000e+09   2.363000e+09   \n",
      "5   BRONX 2021-06-01       26845332.0      1.109700e+10   2.337000e+09   \n",
      "6   BRONX 2021-07-01       33006942.0      1.167900e+10   2.429000e+09   \n",
      "7   BRONX 2021-08-01       36462677.0      1.237300e+10   2.439000e+09   \n",
      "8   BRONX 2021-09-01       29853273.0      9.893000e+09   2.267000e+09   \n",
      "9   BRONX 2021-10-01       23251802.0      9.574000e+09   2.368000e+09   \n",
      "\n",
      "          Wind        Solar   Avg_Temp  Total_Precip  Avg_Wind  \n",
      "0  262000000.0   62000000.0  34.758065          2.31  6.797419  \n",
      "1  318000000.0   46000000.0  34.160714          5.13  6.487143  \n",
      "2  574000000.0  109000000.0  45.822581          3.41  6.710323  \n",
      "3  328000000.0  113000000.0  54.583333          2.69  5.741667  \n",
      "4  277000000.0  126000000.0  62.887097          4.36  5.174194  \n",
      "5  379000000.0  126000000.0  74.250000          2.62  3.682667  \n",
      "6  204000000.0  114000000.0  76.032258         11.09  3.485484  \n",
      "7  212000000.0  109000000.0  77.548387         10.32  3.441613  \n",
      "8  332000000.0  109000000.0  70.300000         10.03  3.974118  \n",
      "9  344000000.0   87000000.0  62.000000          5.26  4.621481  \n"
     ]
    }
   ],
   "source": [
    "# Merge Generation + Weather first\n",
    "df_gen_weather = df_generation_clean.merge(df_weather_monthly, on='Date', how='inner')\n",
    "print(f\"\\nGen+Weather: {df_gen_weather.shape}\")\n",
    "\n",
    "# Merge with Consumption\n",
    "df_merged = df_consumption_clean.merge(df_gen_weather, on='Date', how='inner')\n",
    "\n",
    "print(f\"\\nFinal merged: {df_merged.shape}\")\n",
    "print(\"\\nColumns:\")\n",
    "print(df_merged.columns.tolist())\n",
    "print(\"\\nFirst 10 rows:\")\n",
    "print(df_merged.head(10))"
   ]
  },
  {
   "cell_type": "code",
   "execution_count": 101,
   "id": "7ee409b4",
   "metadata": {},
   "outputs": [
    {
     "name": "stdout",
     "output_type": "stream",
     "text": [
      "\n",
      "============================================================\n",
      "STEP 4.2: SAVE MERGED DATA\n",
      "============================================================\n",
      "Missing values:\n",
      "Borough             0\n",
      "Date                0\n",
      "Consumption_KWH     0\n",
      "Total_Generation    0\n",
      "Hydroelectric       0\n",
      "Wind                0\n",
      "Solar               0\n",
      "Avg_Temp            0\n",
      "Total_Precip        0\n",
      "Avg_Wind            0\n",
      "dtype: int64\n",
      "\n",
      "Final dataset summary:\n",
      "Shape: (252, 10)\n",
      "Date range: 2021-01-01 00:00:00 to 2023-12-01 00:00:00\n",
      "Boroughs: ['BRONX', 'BROOKLYN', 'FHA', 'MANHATTAN', 'NON DEVELOPMENT FACILITY', 'QUEENS', 'STATEN ISLAND']\n",
      "\n",
      "✓ Saved to: ../data/processed/merged_data.csv\n"
     ]
    }
   ],
   "source": [
    "print(\"\\n\" + \"=\"*60)\n",
    "print(\"STEP 4.2: SAVE MERGED DATA\")\n",
    "print(\"=\"*60)\n",
    "\n",
    "# Check for missing values\n",
    "print(\"Missing values:\")\n",
    "print(df_merged.isnull().sum())\n",
    "\n",
    "# Summary\n",
    "print(\"\\nFinal dataset summary:\")\n",
    "print(f\"Shape: {df_merged.shape}\")\n",
    "print(f\"Date range: {df_merged['Date'].min()} to {df_merged['Date'].max()}\")\n",
    "print(f\"Boroughs: {df_merged['Borough'].unique().tolist()}\")\n",
    "\n",
    "# Save merged dataset\n",
    "output_path = '../data/processed/merged_data.csv'\n",
    "df_merged.to_csv(output_path, index=False)\n",
    "\n",
    "print(f\"\\n✓ Saved to: {output_path}\")"
   ]
  },
  {
   "cell_type": "code",
   "execution_count": null,
   "id": "a6b3f8c6",
   "metadata": {},
   "outputs": [],
   "source": []
  },
  {
   "cell_type": "code",
   "execution_count": null,
   "id": "c6cf27b3",
   "metadata": {},
   "outputs": [],
   "source": []
  },
  {
   "cell_type": "code",
   "execution_count": null,
   "id": "855d3545",
   "metadata": {},
   "outputs": [],
   "source": []
  },
  {
   "cell_type": "code",
   "execution_count": null,
   "id": "28798903",
   "metadata": {},
   "outputs": [],
   "source": []
  },
  {
   "cell_type": "code",
   "execution_count": null,
   "id": "1d784c14",
   "metadata": {},
   "outputs": [],
   "source": []
  },
  {
   "cell_type": "code",
   "execution_count": null,
   "id": "45979af9",
   "metadata": {},
   "outputs": [],
   "source": []
  },
  {
   "cell_type": "code",
   "execution_count": null,
   "id": "4c614d6c",
   "metadata": {},
   "outputs": [],
   "source": []
  },
  {
   "cell_type": "code",
   "execution_count": null,
   "id": "ccae2620",
   "metadata": {},
   "outputs": [],
   "source": []
  },
  {
   "cell_type": "code",
   "execution_count": null,
   "id": "a8d1f37c",
   "metadata": {},
   "outputs": [],
   "source": []
  }
 ],
 "metadata": {
  "kernelspec": {
   "display_name": "Python 3 (ipykernel)",
   "language": "python",
   "name": "python3"
  },
  "language_info": {
   "codemirror_mode": {
    "name": "ipython",
    "version": 3
   },
   "file_extension": ".py",
   "mimetype": "text/x-python",
   "name": "python",
   "nbconvert_exporter": "python",
   "pygments_lexer": "ipython3",
   "version": "3.11.4"
  }
 },
 "nbformat": 4,
 "nbformat_minor": 5
}
